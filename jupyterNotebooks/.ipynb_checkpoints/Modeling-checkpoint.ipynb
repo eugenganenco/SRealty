{
 "cells": [
  {
   "cell_type": "code",
   "execution_count": 1,
   "id": "cfdfd442",
   "metadata": {},
   "outputs": [],
   "source": [
    "import pandas as pd\n",
    "import numpy as np\n",
    "from sklearn.compose import make_column_transformer\n",
    "from sklearn.preprocessing import OneHotEncoder\n",
    "from sklearn.linear_model import LogisticRegression\n",
    "from sklearn.pipeline import make_pipeline\n",
    "from sklearn.model_selection import cross_val_score\n",
    "\n",
    "from sklearn.linear_model import Lasso\n",
    "from sklearn.feature_selection import SelectFromModel\n",
    "\n",
    "pd.pandas.set_option('display.max_columns', None)\n",
    "pd.set_option('display.max_colwidth', None)"
   ]
  },
  {
   "cell_type": "code",
   "execution_count": 2,
   "id": "456c2215",
   "metadata": {},
   "outputs": [],
   "source": [
    "df=pd.read_csv('TrainingData.csv')"
   ]
  },
  {
   "cell_type": "code",
   "execution_count": 4,
   "id": "f33bdf11",
   "metadata": {},
   "outputs": [
    {
     "name": "stdout",
     "output_type": "stream",
     "text": [
      "False\n"
     ]
    }
   ],
   "source": [
    "print(df.isnull().any(axis='index').any())"
   ]
  },
  {
   "cell_type": "markdown",
   "id": "70ae34ec",
   "metadata": {},
   "source": [
    "Checks if there are any missing values in any of the columns of the dataframe."
   ]
  },
  {
   "cell_type": "code",
   "execution_count": 5,
   "id": "23e07453",
   "metadata": {},
   "outputs": [],
   "source": [
    "X = df.drop('price', axis='columns')\n",
    "y = df.price"
   ]
  },
  {
   "cell_type": "code",
   "execution_count": 6,
   "id": "02f18296",
   "metadata": {},
   "outputs": [],
   "source": [
    "X = X.loc[:, [x for x in X.columns if x not in ['Index', 'Unnamed: 0', 'link', 'location']]]"
   ]
  },
  {
   "cell_type": "code",
   "execution_count": 7,
   "id": "f37cdb35",
   "metadata": {},
   "outputs": [],
   "source": [
    "categoricalFeatures = [feature for feature in X.columns if X[feature].dtypes == 'O']"
   ]
  },
  {
   "cell_type": "code",
   "execution_count": 8,
   "id": "788e10d6",
   "metadata": {},
   "outputs": [
    {
     "data": {
      "text/plain": [
       "['district',\n",
       " 'HouseType',\n",
       " 'total price',\n",
       " 'Update',\n",
       " 'Building',\n",
       " 'Object status',\n",
       " 'Location of the house',\n",
       " 'Home type',\n",
       " 'The floor',\n",
       " 'Store',\n",
       " 'Move-in date',\n",
       " 'Water',\n",
       " 'Heating',\n",
       " 'Gas',\n",
       " 'Garbage',\n",
       " 'Transport',\n",
       " 'Communication',\n",
       " 'Energy efficiency of the building',\n",
       " 'Barrier-free',\n",
       " 'Equipment',\n",
       " 'companyName',\n",
       " 'Note on price',\n",
       " 'Electricity',\n",
       " 'Indicator of energy efficiency of the building',\n",
       " 'Object location',\n",
       " 'Parking',\n",
       " 'Garage',\n",
       " 'Lift',\n",
       " 'Telecommunication',\n",
       " 'Certificate of energy performance of the building',\n",
       " 'Swimming pool',\n",
       " 'Housing costs',\n",
       " 'Discounted',\n",
       " 'Original price',\n",
       " 'Condition',\n",
       " 'locationLat',\n",
       " 'locationLong',\n",
       " 'provize',\n",
       " 'právního',\n",
       " 'dph',\n",
       " 'poplatků',\n",
       " 'cena k jednání']"
      ]
     },
     "execution_count": 8,
     "metadata": {},
     "output_type": "execute_result"
    }
   ],
   "source": [
    "categoricalFeatures"
   ]
  },
  {
   "cell_type": "code",
   "execution_count": 9,
   "id": "fadec983",
   "metadata": {},
   "outputs": [],
   "source": [
    "column_trans = make_column_transformer(\n",
    "    (OneHotEncoder(), categoricalFeatures),\n",
    "    remainder='passthrough')"
   ]
  },
  {
   "cell_type": "code",
   "execution_count": 10,
   "id": "060449ae",
   "metadata": {},
   "outputs": [
    {
     "data": {
      "text/plain": [
       "Pipeline(steps=[('columntransformer',\n",
       "                 ColumnTransformer(remainder='passthrough',\n",
       "                                   transformers=[('onehotencoder',\n",
       "                                                  OneHotEncoder(),\n",
       "                                                  ['district', 'HouseType',\n",
       "                                                   'total price', 'Update',\n",
       "                                                   'Building', 'Object status',\n",
       "                                                   'Location of the house',\n",
       "                                                   'Home type', 'The floor',\n",
       "                                                   'Store', 'Move-in date',\n",
       "                                                   'Water', 'Heating', 'Gas',\n",
       "                                                   'Garbage', 'Transport',\n",
       "                                                   'Communication',\n",
       "                                                   'Energy efficiency of the '\n",
       "                                                   'building',\n",
       "                                                   'Barrier-free', 'Equipment',\n",
       "                                                   'companyName',\n",
       "                                                   'Note on price',\n",
       "                                                   'Electricity',\n",
       "                                                   'Indicator of energy '\n",
       "                                                   'efficiency of the building',\n",
       "                                                   'Object location', 'Parking',\n",
       "                                                   'Garage', 'Lift',\n",
       "                                                   'Telecommunication',\n",
       "                                                   'Certificate of energy '\n",
       "                                                   'performance of the '\n",
       "                                                   'building', ...])])),\n",
       "                ('lasso', Lasso(alpha=0.005, random_state=0))])"
      ]
     },
     "execution_count": 10,
     "metadata": {},
     "output_type": "execute_result"
    }
   ],
   "source": [
    "#feature_sel_model = SelectFromModel(Lasso(alpha=0.005, random_state=0)) # remember to set the seed, the random state in this function\n",
    "pipe = make_pipeline(column_trans, Lasso(alpha=0.005, random_state=0))\n",
    "pipe.fit(X, y)"
   ]
  },
  {
   "cell_type": "code",
   "execution_count": 11,
   "id": "26bc9317",
   "metadata": {},
   "outputs": [
    {
     "ename": "AttributeError",
     "evalue": "'Pipeline' object has no attribute 'get_support'",
     "output_type": "error",
     "traceback": [
      "\u001b[0;31m---------------------------------------------------------------------------\u001b[0m",
      "\u001b[0;31mAttributeError\u001b[0m                            Traceback (most recent call last)",
      "Input \u001b[0;32mIn [11]\u001b[0m, in \u001b[0;36m<cell line: 1>\u001b[0;34m()\u001b[0m\n\u001b[0;32m----> 1\u001b[0m selected_feat \u001b[38;5;241m=\u001b[39m X\u001b[38;5;241m.\u001b[39mcolumns[(\u001b[43mpipe\u001b[49m\u001b[38;5;241;43m.\u001b[39;49m\u001b[43mget_support\u001b[49m())]\n",
      "\u001b[0;31mAttributeError\u001b[0m: 'Pipeline' object has no attribute 'get_support'"
     ]
    }
   ],
   "source": [
    "selected_feat = X.columns[(pipe.get_support())]"
   ]
  },
  {
   "cell_type": "code",
   "execution_count": null,
   "id": "533b9825",
   "metadata": {},
   "outputs": [],
   "source": [
    "# print('total features: {}'.format((X.shape[1])))\n",
    "# print('selected features: {}'.format(len(selected_feat)))"
   ]
  }
 ],
 "metadata": {
  "kernelspec": {
   "display_name": "Python 3 (ipykernel)",
   "language": "python",
   "name": "python3"
  },
  "language_info": {
   "codemirror_mode": {
    "name": "ipython",
    "version": 3
   },
   "file_extension": ".py",
   "mimetype": "text/x-python",
   "name": "python",
   "nbconvert_exporter": "python",
   "pygments_lexer": "ipython3",
   "version": "3.9.12"
  }
 },
 "nbformat": 4,
 "nbformat_minor": 5
}
